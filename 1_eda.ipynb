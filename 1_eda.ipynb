{
 "cells": [
  {
   "cell_type": "code",
   "execution_count": 46,
   "metadata": {},
   "outputs": [],
   "source": [
    "# pyscience imports\n",
    "import os\n",
    "import sys\n",
    "import glob\n",
    "import numpy as np\n",
    "import pandas as pd\n",
    "import statsmodels.api as sm\n",
    "import statsmodels.formula.api as smf\n",
    "\n",
    "from plotnine import *\n",
    "import matplotlib.pyplot as plt\n",
    "import seaborn as sns\n",
    "plt.style.use(\"seaborn-darkgrid\")\n",
    "# plt.style.use(\"dark_background\")\n",
    "sns.set(style=\"ticks\", context=\"talk\")\n",
    "# %matplotlib inline\n",
    "# run for jupyter notebook\n",
    "from IPython.core.interactiveshell import InteractiveShell\n",
    "InteractiveShell.ast_node_interactivity = 'all'"
   ]
  },
  {
   "cell_type": "code",
   "execution_count": 102,
   "metadata": {},
   "outputs": [
    {
     "data": {
      "text/plain": [
       "'/home/alal/Dropbox/1_Research/league-tables-scraper'"
      ]
     },
     "execution_count": 102,
     "metadata": {},
     "output_type": "execute_result"
    }
   ],
   "source": [
    "%pwd\n",
    "years = list(range(1951, 1996, 1))\n",
    "colorder = ['year', 'club', 'played', 'home_w', 'home_d', 'home_l', 'home_f', 'home_a', \n",
    "'away_w', 'away_d', 'away_l', 'away_f', 'away_a', 'pts' , 'n_teams']\n",
    "epl_renames = {\n",
    "    'Team': 'club',\n",
    "    'Played': 'played',\n",
    "    'Pts': 'pts'\n",
    "}"
   ]
  },
  {
   "cell_type": "code",
   "execution_count": 103,
   "metadata": {},
   "outputs": [],
   "source": [
    "english_league = []\n",
    "scottish_league = []\n",
    "for s in years:\n",
    "    # english league\n",
    "    try:\n",
    "        r = pd.read_csv('english_league_tables/english_league_' + str(s) + '.csv')\n",
    "        r['n_teams'] = len(r)\n",
    "        r.rename(columns = epl_renames, inplace=True)\n",
    "        r = r[colorder]\n",
    "        english_league.append(r)\n",
    "    except:\n",
    "        print('English League ' + str(s) + ' league table not found')\n",
    "    # scottish league\n",
    "    try:\n",
    "        r = pd.read_csv('scottish_league_tables/scottish_league_' + str(s) + '.csv')\n",
    "        r['n_teams'] = len(r)\n",
    "        r = r[colorder]\n",
    "        scottish_league.append(r)\n",
    "    except:\n",
    "        print('Scottish League ' + str(s) + ' league table not found')"
   ]
  },
  {
   "cell_type": "code",
   "execution_count": 104,
   "metadata": {},
   "outputs": [
    {
     "data": {
      "text/html": [
       "<div>\n",
       "<style scoped>\n",
       "    .dataframe tbody tr th:only-of-type {\n",
       "        vertical-align: middle;\n",
       "    }\n",
       "\n",
       "    .dataframe tbody tr th {\n",
       "        vertical-align: top;\n",
       "    }\n",
       "\n",
       "    .dataframe thead th {\n",
       "        text-align: right;\n",
       "    }\n",
       "</style>\n",
       "<table border=\"1\" class=\"dataframe\">\n",
       "  <thead>\n",
       "    <tr style=\"text-align: right;\">\n",
       "      <th></th>\n",
       "      <th>year</th>\n",
       "      <th>club</th>\n",
       "      <th>played</th>\n",
       "      <th>home_w</th>\n",
       "      <th>home_d</th>\n",
       "      <th>home_l</th>\n",
       "      <th>home_f</th>\n",
       "      <th>home_a</th>\n",
       "      <th>away_w</th>\n",
       "      <th>away_d</th>\n",
       "      <th>away_l</th>\n",
       "      <th>away_f</th>\n",
       "      <th>away_a</th>\n",
       "      <th>pts</th>\n",
       "      <th>n_teams</th>\n",
       "      <th>pos</th>\n",
       "    </tr>\n",
       "  </thead>\n",
       "  <tbody>\n",
       "    <tr>\n",
       "      <th>0</th>\n",
       "      <td>1951</td>\n",
       "      <td>Hibernian</td>\n",
       "      <td>30.0</td>\n",
       "      <td>13</td>\n",
       "      <td>1</td>\n",
       "      <td>1.0</td>\n",
       "      <td>44.0</td>\n",
       "      <td>9.0</td>\n",
       "      <td>9.0</td>\n",
       "      <td>3.0</td>\n",
       "      <td>3.0</td>\n",
       "      <td>34.0</td>\n",
       "      <td>17.0</td>\n",
       "      <td>48.0</td>\n",
       "      <td>16</td>\n",
       "      <td>1</td>\n",
       "    </tr>\n",
       "    <tr>\n",
       "      <th>1</th>\n",
       "      <td>1951</td>\n",
       "      <td>Rangers</td>\n",
       "      <td>30.0</td>\n",
       "      <td>10</td>\n",
       "      <td>3</td>\n",
       "      <td>2.0</td>\n",
       "      <td>36.0</td>\n",
       "      <td>13.0</td>\n",
       "      <td>7.0</td>\n",
       "      <td>1.0</td>\n",
       "      <td>7.0</td>\n",
       "      <td>28.0</td>\n",
       "      <td>24.0</td>\n",
       "      <td>38.0</td>\n",
       "      <td>16</td>\n",
       "      <td>2</td>\n",
       "    </tr>\n",
       "    <tr>\n",
       "      <th>2</th>\n",
       "      <td>1951</td>\n",
       "      <td>Dundee</td>\n",
       "      <td>30.0</td>\n",
       "      <td>11</td>\n",
       "      <td>3</td>\n",
       "      <td>1.0</td>\n",
       "      <td>32.0</td>\n",
       "      <td>12.0</td>\n",
       "      <td>4.0</td>\n",
       "      <td>5.0</td>\n",
       "      <td>6.0</td>\n",
       "      <td>15.0</td>\n",
       "      <td>18.0</td>\n",
       "      <td>38.0</td>\n",
       "      <td>16</td>\n",
       "      <td>3</td>\n",
       "    </tr>\n",
       "    <tr>\n",
       "      <th>3</th>\n",
       "      <td>1951</td>\n",
       "      <td>Hearts</td>\n",
       "      <td>30.0</td>\n",
       "      <td>10</td>\n",
       "      <td>3</td>\n",
       "      <td>2.0</td>\n",
       "      <td>46.0</td>\n",
       "      <td>17.0</td>\n",
       "      <td>6.0</td>\n",
       "      <td>2.0</td>\n",
       "      <td>7.0</td>\n",
       "      <td>26.0</td>\n",
       "      <td>28.0</td>\n",
       "      <td>37.0</td>\n",
       "      <td>16</td>\n",
       "      <td>4</td>\n",
       "    </tr>\n",
       "    <tr>\n",
       "      <th>4</th>\n",
       "      <td>1951</td>\n",
       "      <td>Aberdeen</td>\n",
       "      <td>30.0</td>\n",
       "      <td>9</td>\n",
       "      <td>2</td>\n",
       "      <td>4.0</td>\n",
       "      <td>35.0</td>\n",
       "      <td>21.0</td>\n",
       "      <td>6.0</td>\n",
       "      <td>3.0</td>\n",
       "      <td>6.0</td>\n",
       "      <td>26.0</td>\n",
       "      <td>29.0</td>\n",
       "      <td>35.0</td>\n",
       "      <td>16</td>\n",
       "      <td>5</td>\n",
       "    </tr>\n",
       "  </tbody>\n",
       "</table>\n",
       "</div>"
      ],
      "text/plain": [
       "   year       club  played  home_w  home_d  home_l  home_f  home_a  away_w  \\\n",
       "0  1951  Hibernian    30.0      13       1     1.0    44.0     9.0     9.0   \n",
       "1  1951    Rangers    30.0      10       3     2.0    36.0    13.0     7.0   \n",
       "2  1951     Dundee    30.0      11       3     1.0    32.0    12.0     4.0   \n",
       "3  1951     Hearts    30.0      10       3     2.0    46.0    17.0     6.0   \n",
       "4  1951   Aberdeen    30.0       9       2     4.0    35.0    21.0     6.0   \n",
       "\n",
       "   away_d  away_l  away_f  away_a   pts  n_teams  pos  \n",
       "0     3.0     3.0    34.0    17.0  48.0       16    1  \n",
       "1     1.0     7.0    28.0    24.0  38.0       16    2  \n",
       "2     5.0     6.0    15.0    18.0  38.0       16    3  \n",
       "3     2.0     7.0    26.0    28.0  37.0       16    4  \n",
       "4     3.0     6.0    26.0    29.0  35.0       16    5  "
      ]
     },
     "execution_count": 104,
     "metadata": {},
     "output_type": "execute_result"
    }
   ],
   "source": [
    "spl_series = pd.concat(scottish_league)\n",
    "spl_series = spl_series[[c for c in spl_series.columns if not c.startswith('Unnamed')]]\n",
    "spl_series['pos'] = spl_series.index + 1\n",
    "spl_series.head()"
   ]
  },
  {
   "cell_type": "code",
   "execution_count": 105,
   "metadata": {},
   "outputs": [],
   "source": [
    "epl_series = pd.concat(english_league)\n",
    "epl_series = epl_series[[c for c in epl_series.columns if not c.startswith('Unnamed')]]\n",
    "epl_series['year'] = 1900 + epl_series.year\n",
    "epl_series['pos'] = epl_series.index + 1"
   ]
  },
  {
   "cell_type": "code",
   "execution_count": 106,
   "metadata": {},
   "outputs": [
    {
     "data": {
      "text/html": [
       "<div>\n",
       "<style scoped>\n",
       "    .dataframe tbody tr th:only-of-type {\n",
       "        vertical-align: middle;\n",
       "    }\n",
       "\n",
       "    .dataframe tbody tr th {\n",
       "        vertical-align: top;\n",
       "    }\n",
       "\n",
       "    .dataframe thead th {\n",
       "        text-align: right;\n",
       "    }\n",
       "</style>\n",
       "<table border=\"1\" class=\"dataframe\">\n",
       "  <thead>\n",
       "    <tr style=\"text-align: right;\">\n",
       "      <th></th>\n",
       "      <th>year</th>\n",
       "      <th>club</th>\n",
       "      <th>played</th>\n",
       "      <th>home_w</th>\n",
       "      <th>home_d</th>\n",
       "      <th>home_l</th>\n",
       "      <th>home_f</th>\n",
       "      <th>home_a</th>\n",
       "      <th>away_w</th>\n",
       "      <th>away_d</th>\n",
       "      <th>away_l</th>\n",
       "      <th>away_f</th>\n",
       "      <th>away_a</th>\n",
       "      <th>pts</th>\n",
       "      <th>n_teams</th>\n",
       "      <th>pos</th>\n",
       "      <th>goals</th>\n",
       "      <th>goals_permatch</th>\n",
       "    </tr>\n",
       "  </thead>\n",
       "  <tbody>\n",
       "    <tr>\n",
       "      <th>0</th>\n",
       "      <td>1951</td>\n",
       "      <td>Tottenham Hotspur</td>\n",
       "      <td>42</td>\n",
       "      <td>17</td>\n",
       "      <td>2</td>\n",
       "      <td>2</td>\n",
       "      <td>54</td>\n",
       "      <td>21</td>\n",
       "      <td>8</td>\n",
       "      <td>8</td>\n",
       "      <td>5</td>\n",
       "      <td>28</td>\n",
       "      <td>23</td>\n",
       "      <td>60</td>\n",
       "      <td>22</td>\n",
       "      <td>1</td>\n",
       "      <td>82</td>\n",
       "      <td>1.952381</td>\n",
       "    </tr>\n",
       "    <tr>\n",
       "      <th>1</th>\n",
       "      <td>1951</td>\n",
       "      <td>Manchester United</td>\n",
       "      <td>42</td>\n",
       "      <td>14</td>\n",
       "      <td>4</td>\n",
       "      <td>3</td>\n",
       "      <td>42</td>\n",
       "      <td>16</td>\n",
       "      <td>10</td>\n",
       "      <td>4</td>\n",
       "      <td>7</td>\n",
       "      <td>32</td>\n",
       "      <td>24</td>\n",
       "      <td>56</td>\n",
       "      <td>22</td>\n",
       "      <td>2</td>\n",
       "      <td>74</td>\n",
       "      <td>1.761905</td>\n",
       "    </tr>\n",
       "    <tr>\n",
       "      <th>2</th>\n",
       "      <td>1951</td>\n",
       "      <td>Blackpool</td>\n",
       "      <td>42</td>\n",
       "      <td>12</td>\n",
       "      <td>6</td>\n",
       "      <td>3</td>\n",
       "      <td>43</td>\n",
       "      <td>19</td>\n",
       "      <td>8</td>\n",
       "      <td>4</td>\n",
       "      <td>9</td>\n",
       "      <td>36</td>\n",
       "      <td>34</td>\n",
       "      <td>50</td>\n",
       "      <td>22</td>\n",
       "      <td>3</td>\n",
       "      <td>79</td>\n",
       "      <td>1.880952</td>\n",
       "    </tr>\n",
       "    <tr>\n",
       "      <th>3</th>\n",
       "      <td>1951</td>\n",
       "      <td>Newcastle United</td>\n",
       "      <td>42</td>\n",
       "      <td>10</td>\n",
       "      <td>6</td>\n",
       "      <td>5</td>\n",
       "      <td>36</td>\n",
       "      <td>22</td>\n",
       "      <td>8</td>\n",
       "      <td>7</td>\n",
       "      <td>6</td>\n",
       "      <td>26</td>\n",
       "      <td>31</td>\n",
       "      <td>49</td>\n",
       "      <td>22</td>\n",
       "      <td>4</td>\n",
       "      <td>62</td>\n",
       "      <td>1.476190</td>\n",
       "    </tr>\n",
       "    <tr>\n",
       "      <th>4</th>\n",
       "      <td>1951</td>\n",
       "      <td>Arsenal</td>\n",
       "      <td>42</td>\n",
       "      <td>11</td>\n",
       "      <td>5</td>\n",
       "      <td>5</td>\n",
       "      <td>47</td>\n",
       "      <td>28</td>\n",
       "      <td>8</td>\n",
       "      <td>4</td>\n",
       "      <td>9</td>\n",
       "      <td>26</td>\n",
       "      <td>28</td>\n",
       "      <td>47</td>\n",
       "      <td>22</td>\n",
       "      <td>5</td>\n",
       "      <td>73</td>\n",
       "      <td>1.738095</td>\n",
       "    </tr>\n",
       "  </tbody>\n",
       "</table>\n",
       "</div>"
      ],
      "text/plain": [
       "   year               club  played  home_w  home_d  home_l  home_f  home_a  \\\n",
       "0  1951  Tottenham Hotspur      42      17       2       2      54      21   \n",
       "1  1951  Manchester United      42      14       4       3      42      16   \n",
       "2  1951          Blackpool      42      12       6       3      43      19   \n",
       "3  1951   Newcastle United      42      10       6       5      36      22   \n",
       "4  1951            Arsenal      42      11       5       5      47      28   \n",
       "\n",
       "   away_w  away_d  away_l  away_f  away_a  pts  n_teams  pos  goals  \\\n",
       "0       8       8       5      28      23   60       22    1     82   \n",
       "1      10       4       7      32      24   56       22    2     74   \n",
       "2       8       4       9      36      34   50       22    3     79   \n",
       "3       8       7       6      26      31   49       22    4     62   \n",
       "4       8       4       9      26      28   47       22    5     73   \n",
       "\n",
       "   goals_permatch  \n",
       "0        1.952381  \n",
       "1        1.761905  \n",
       "2        1.880952  \n",
       "3        1.476190  \n",
       "4        1.738095  "
      ]
     },
     "execution_count": 106,
     "metadata": {},
     "output_type": "execute_result"
    }
   ],
   "source": [
    "spl_series['goals'] = spl_series.home_f + spl_series.away_f\n",
    "epl_series['goals'] = epl_series.home_f + epl_series.away_f\n",
    "spl_series['goals_permatch'] = spl_series.goals / spl_series.played\n",
    "epl_series['goals_permatch'] = epl_series.goals / epl_series.played\n",
    "epl_series['club'] = epl_series['club'].str.title()\n",
    "spl_series['club'] = spl_series['club'].str.title()\n",
    "epl_series.head()"
   ]
  },
  {
   "cell_type": "code",
   "execution_count": 107,
   "metadata": {},
   "outputs": [
    {
     "data": {
      "text/plain": [
       "array(['Arsenal', 'Aston Villa', 'Barnsley', 'Birmingham City',\n",
       "       'Blackburn Rovers', 'Blackpool', 'Bolton Wanderers', 'Brentford',\n",
       "       'Brighton   Hove Albion', 'Bristol City', 'Bristol Rovers',\n",
       "       'Burnley', 'Bury', 'Cardiff City', 'Carlisle United',\n",
       "       'Charlton Athletic', 'Chelsea', 'Coventry City', 'Crystal Palace',\n",
       "       'Derby County', 'Doncaster Rovers', 'Everton', 'Fulham',\n",
       "       'Grimsby Town', 'Huddersfield Town', 'Hull City', 'Ipswich Town',\n",
       "       'Leeds United', 'Leicester City', 'Leyton Orient', 'Lincoln City',\n",
       "       'Liverpool', 'Luton Town', 'Manchester City', 'Manchester United',\n",
       "       'Middlesbrough', 'Millwall', 'Newcastle United', 'Northampton',\n",
       "       'Norwich City', 'Nottingham Forest', 'Notts County',\n",
       "       'Oldham Athletic', 'Oxford United', 'Plymouth Argyle', 'Port Vale',\n",
       "       'Portsmouth', 'Preston North End', \"Queen'S Park Rangers\",\n",
       "       'Queens Park Rangers', 'Reading', 'Rotherham United',\n",
       "       'Sheffield United', 'Sheffield Wednesday', 'Southampton',\n",
       "       'Southend United', 'Stoke City', 'Sunderland', 'Swansea City',\n",
       "       'Swindon Town', 'Tottenham Hotspur', 'Tranmere Rovers', 'Watford',\n",
       "       'West Bromwich Albion', 'West Ham United', 'Wimbledon',\n",
       "       'Wolverhampton Wanderers', 'York City'], dtype=object)"
      ]
     },
     "execution_count": 107,
     "metadata": {},
     "output_type": "execute_result"
    },
    {
     "data": {
      "text/plain": [
       "array(['Aberdeen', 'Airdrieonians', 'Arbroath', 'Ayr United', 'Celtic',\n",
       "       'Clyde', 'Clydebank', 'Cowdenbeath', 'Dumbarton', 'Dundee',\n",
       "       'Dundee United', 'Dunfermline Athletic', 'East Fife',\n",
       "       'East Stirling', 'Falkirk', 'Hamilton Academical',\n",
       "       'Heart Of Midlothian', 'Hearts', 'Hibernian', 'Kilmarnock',\n",
       "       'Morton', 'Motherwell', 'Partick Thistle', 'Queen Of The South',\n",
       "       \"Queen'S Park\", 'Raith Rovers', 'Rangers', 'St. Johnstone',\n",
       "       'St. Mirren', 'Stirling Albion', 'Third Lanark'], dtype=object)"
      ]
     },
     "execution_count": 107,
     "metadata": {},
     "output_type": "execute_result"
    }
   ],
   "source": [
    "sort(epl_series['club'].unique())\n",
    "sort(spl_series['club'].unique())"
   ]
  },
  {
   "cell_type": "code",
   "execution_count": 108,
   "metadata": {},
   "outputs": [],
   "source": [
    "epl_series.to_csv('english_league_tables/_epl_panel.csv')\n",
    "spl_series.to_csv('scottish_league_tables/_spl_panel.csv')"
   ]
  },
  {
   "cell_type": "markdown",
   "metadata": {},
   "source": [
    "# Arsenal "
   ]
  },
  {
   "cell_type": "code",
   "execution_count": 110,
   "metadata": {},
   "outputs": [],
   "source": [
    "arsenal_ts = epl_series.query('club == \"Arsenal\"')"
   ]
  },
  {
   "cell_type": "code",
   "execution_count": 115,
   "metadata": {},
   "outputs": [
    {
     "data": {
      "image/png": "[encoded data removed]",
      "text/plain": [
       "<Figure size 640x480 with 1 Axes>"
      ]
     },
     "metadata": {},
     "output_type": "display_data"
    },
    {
     "data": {
      "text/plain": [
       "<ggplot: (8784425107646)>"
      ]
     },
     "execution_count": 115,
     "metadata": {},
     "output_type": "execute_result"
    }
   ],
   "source": [
    "ggplot(arsenal_ts, aes(x='year', y = 'pos')) + geom_point(colour = 'red') + geom_line(colour='red') +\\\n",
    "    scale_y_reverse()"
   ]
  },
  {
   "cell_type": "markdown",
   "metadata": {},
   "source": [
    "# Goal Tallies "
   ]
  },
  {
   "cell_type": "code",
   "execution_count": 52,
   "metadata": {},
   "outputs": [],
   "source": [
    "scotlandgoals = spl_series[['year','goals_permatch']].groupby('year').mean()\n",
    "englandgoals = epl_series[['year','goals_permatch']].groupby('year').mean()"
   ]
  },
  {
   "cell_type": "code",
   "execution_count": 58,
   "metadata": {},
   "outputs": [
    {
     "data": {
      "text/html": [
       "<div>\n",
       "<style scoped>\n",
       "    .dataframe tbody tr th:only-of-type {\n",
       "        vertical-align: middle;\n",
       "    }\n",
       "\n",
       "    .dataframe tbody tr th {\n",
       "        vertical-align: top;\n",
       "    }\n",
       "\n",
       "    .dataframe thead th {\n",
       "        text-align: right;\n",
       "    }\n",
       "</style>\n",
       "<table border=\"1\" class=\"dataframe\">\n",
       "  <thead>\n",
       "    <tr style=\"text-align: right;\">\n",
       "      <th></th>\n",
       "      <th>year</th>\n",
       "      <th>scotland_goals_per_match</th>\n",
       "      <th>england_goals_per_match</th>\n",
       "    </tr>\n",
       "  </thead>\n",
       "  <tbody>\n",
       "    <tr>\n",
       "      <th>0</th>\n",
       "      <td>1951</td>\n",
       "      <td>1.731250</td>\n",
       "      <td>1.529221</td>\n",
       "    </tr>\n",
       "    <tr>\n",
       "      <th>1</th>\n",
       "      <td>1952</td>\n",
       "      <td>1.850000</td>\n",
       "      <td>1.612554</td>\n",
       "    </tr>\n",
       "    <tr>\n",
       "      <th>2</th>\n",
       "      <td>1953</td>\n",
       "      <td>1.985417</td>\n",
       "      <td>1.632035</td>\n",
       "    </tr>\n",
       "    <tr>\n",
       "      <th>3</th>\n",
       "      <td>1954</td>\n",
       "      <td>1.885417</td>\n",
       "      <td>1.661255</td>\n",
       "    </tr>\n",
       "    <tr>\n",
       "      <th>4</th>\n",
       "      <td>1955</td>\n",
       "      <td>1.795833</td>\n",
       "      <td>1.701299</td>\n",
       "    </tr>\n",
       "  </tbody>\n",
       "</table>\n",
       "</div>"
      ],
      "text/plain": [
       "   year  scotland_goals_per_match  england_goals_per_match\n",
       "0  1951                  1.731250                 1.529221\n",
       "1  1952                  1.850000                 1.612554\n",
       "2  1953                  1.985417                 1.632035\n",
       "3  1954                  1.885417                 1.661255\n",
       "4  1955                  1.795833                 1.701299"
      ]
     },
     "execution_count": 58,
     "metadata": {},
     "output_type": "execute_result"
    }
   ],
   "source": [
    "ts = pd.concat([scotlandgoals, englandgoals], axis=1)\n",
    "ts.columns = ['scotland_goals_per_match', 'england_goals_per_match']\n",
    "ts.reset_index(inplace=True)\n",
    "ts.head()"
   ]
  },
  {
   "cell_type": "code",
   "execution_count": 117,
   "metadata": {},
   "outputs": [
    {
     "data": {
      "image/png": "[encoded data removed]",
      "text/plain": [
       "<Figure size 640x480 with 1 Axes>"
      ]
     },
     "metadata": {},
     "output_type": "display_data"
    },
    {
     "data": {
      "text/plain": [
       "<ggplot: (-9223363252429577440)>"
      ]
     },
     "execution_count": 117,
     "metadata": {},
     "output_type": "execute_result"
    }
   ],
   "source": [
    "ggplot(ts, aes(x='year')) +\\\n",
    "    geom_point(aes(y='scotland_goals_per_match'), colour='Blue') +\\\n",
    "    geom_point(aes(y='england_goals_per_match'), colour='Red') +\\\n",
    "    labs(y = 'average goals per match', \n",
    "         title = 'Goal trends in EPL and SPL')"
   ]
  },
  {
   "cell_type": "code",
   "execution_count": null,
   "metadata": {},
   "outputs": [],
   "source": []
  }
 ],
 "metadata": {
  "kernelspec": {
   "display_name": "Python 3",
   "language": "python",
   "name": "python3"
  },
  "language_info": {
   "codemirror_mode": {
    "name": "ipython",
    "version": 3
   },
   "file_extension": ".py",
   "mimetype": "text/x-python",
   "name": "python",
   "nbconvert_exporter": "python",
   "pygments_lexer": "ipython3",
   "version": "3.7.0"
  }
 },
 "nbformat": 4,
 "nbformat_minor": 2
}
