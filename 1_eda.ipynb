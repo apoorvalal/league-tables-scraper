{
 "cells": [
  {
   "cell_type": "code",
   "execution_count": 46,
   "metadata": {},
   "outputs": [],
   "source": [
    "# pyscience imports\n",
    "import os\n",
    "import sys\n",
    "import glob\n",
    "import numpy as np\n",
    "import pandas as pd\n",
    "import statsmodels.api as sm\n",
    "import statsmodels.formula.api as smf\n",
    "\n",
    "from plotnine import *\n",
    "import matplotlib.pyplot as plt\n",
    "import seaborn as sns\n",
    "plt.style.use(\"seaborn-darkgrid\")\n",
    "# plt.style.use(\"dark_background\")\n",
    "sns.set(style=\"ticks\", context=\"talk\")\n",
    "# %matplotlib inline\n",
    "# run for jupyter notebook\n",
    "from IPython.core.interactiveshell import InteractiveShell\n",
    "InteractiveShell.ast_node_interactivity = 'all'"
   ]
  },
  {
   "cell_type": "code",
   "execution_count": 47,
   "metadata": {},
   "outputs": [
    {
     "data": {
      "text/plain": [
       "'/home/alal/Dropbox/1_Research/league-tables-scraper'"
      ]
     },
     "execution_count": 47,
     "metadata": {},
     "output_type": "execute_result"
    }
   ],
   "source": [
    "%pwd\n",
    "years = list(range(1951, 1996, 1))\n",
    "colorder = ['year', 'club', 'played', 'home_w', 'home_d', 'home_l', 'home_f', 'home_a', \n",
    "'away_w', 'away_d', 'away_l', 'away_f', 'away_a', 'pts' , 'n_teams']\n",
    "epl_renames = {\n",
    "    'Team': 'club',\n",
    "    'Played': 'played',\n",
    "    'Pts': 'pts'\n",
    "}"
   ]
  },
  {
   "cell_type": "code",
   "execution_count": 48,
   "metadata": {},
   "outputs": [],
   "source": [
    "english_league = []\n",
    "scottish_league = []\n",
    "for s in years:\n",
    "    # english league\n",
    "    try:\n",
    "        r = pd.read_csv('english_league_tables/english_league_' + str(s) + '.csv')\n",
    "        r['n_teams'] = len(r)\n",
    "        r.rename(columns = epl_renames, inplace=True)\n",
    "        r = r[colorder]\n",
    "        english_league.append(r)\n",
    "    except:\n",
    "        print('English League ' + str(s) + ' league table not found')\n",
    "    # scottish league\n",
    "    try:\n",
    "        r = pd.read_csv('scottish_league_tables/scottish_league_' + str(s) + '.csv')\n",
    "        r['n_teams'] = len(r)\n",
    "        r = r[colorder]\n",
    "        scottish_league.append(r)\n",
    "    except:\n",
    "        print('Scottish League ' + str(s) + ' league table not found')"
   ]
  },
  {
   "cell_type": "code",
   "execution_count": 49,
   "metadata": {},
   "outputs": [
    {
     "data": {
      "text/html": [
       "<div>\n",
       "<style scoped>\n",
       "    .dataframe tbody tr th:only-of-type {\n",
       "        vertical-align: middle;\n",
       "    }\n",
       "\n",
       "    .dataframe tbody tr th {\n",
       "        vertical-align: top;\n",
       "    }\n",
       "\n",
       "    .dataframe thead th {\n",
       "        text-align: right;\n",
       "    }\n",
       "</style>\n",
       "<table border=\"1\" class=\"dataframe\">\n",
       "  <thead>\n",
       "    <tr style=\"text-align: right;\">\n",
       "      <th></th>\n",
       "      <th>year</th>\n",
       "      <th>club</th>\n",
       "      <th>played</th>\n",
       "      <th>home_w</th>\n",
       "      <th>home_d</th>\n",
       "      <th>home_l</th>\n",
       "      <th>home_f</th>\n",
       "      <th>home_a</th>\n",
       "      <th>away_w</th>\n",
       "      <th>away_d</th>\n",
       "      <th>away_l</th>\n",
       "      <th>away_f</th>\n",
       "      <th>away_a</th>\n",
       "      <th>pts</th>\n",
       "      <th>n_teams</th>\n",
       "    </tr>\n",
       "  </thead>\n",
       "  <tbody>\n",
       "    <tr>\n",
       "      <th>0</th>\n",
       "      <td>1951</td>\n",
       "      <td>Hibernian</td>\n",
       "      <td>30.0</td>\n",
       "      <td>13</td>\n",
       "      <td>1</td>\n",
       "      <td>1.0</td>\n",
       "      <td>44.0</td>\n",
       "      <td>9.0</td>\n",
       "      <td>9.0</td>\n",
       "      <td>3.0</td>\n",
       "      <td>3.0</td>\n",
       "      <td>34.0</td>\n",
       "      <td>17.0</td>\n",
       "      <td>48.0</td>\n",
       "      <td>16</td>\n",
       "    </tr>\n",
       "    <tr>\n",
       "      <th>1</th>\n",
       "      <td>1951</td>\n",
       "      <td>Rangers</td>\n",
       "      <td>30.0</td>\n",
       "      <td>10</td>\n",
       "      <td>3</td>\n",
       "      <td>2.0</td>\n",
       "      <td>36.0</td>\n",
       "      <td>13.0</td>\n",
       "      <td>7.0</td>\n",
       "      <td>1.0</td>\n",
       "      <td>7.0</td>\n",
       "      <td>28.0</td>\n",
       "      <td>24.0</td>\n",
       "      <td>38.0</td>\n",
       "      <td>16</td>\n",
       "    </tr>\n",
       "    <tr>\n",
       "      <th>2</th>\n",
       "      <td>1951</td>\n",
       "      <td>Dundee</td>\n",
       "      <td>30.0</td>\n",
       "      <td>11</td>\n",
       "      <td>3</td>\n",
       "      <td>1.0</td>\n",
       "      <td>32.0</td>\n",
       "      <td>12.0</td>\n",
       "      <td>4.0</td>\n",
       "      <td>5.0</td>\n",
       "      <td>6.0</td>\n",
       "      <td>15.0</td>\n",
       "      <td>18.0</td>\n",
       "      <td>38.0</td>\n",
       "      <td>16</td>\n",
       "    </tr>\n",
       "    <tr>\n",
       "      <th>3</th>\n",
       "      <td>1951</td>\n",
       "      <td>Hearts</td>\n",
       "      <td>30.0</td>\n",
       "      <td>10</td>\n",
       "      <td>3</td>\n",
       "      <td>2.0</td>\n",
       "      <td>46.0</td>\n",
       "      <td>17.0</td>\n",
       "      <td>6.0</td>\n",
       "      <td>2.0</td>\n",
       "      <td>7.0</td>\n",
       "      <td>26.0</td>\n",
       "      <td>28.0</td>\n",
       "      <td>37.0</td>\n",
       "      <td>16</td>\n",
       "    </tr>\n",
       "    <tr>\n",
       "      <th>4</th>\n",
       "      <td>1951</td>\n",
       "      <td>Aberdeen</td>\n",
       "      <td>30.0</td>\n",
       "      <td>9</td>\n",
       "      <td>2</td>\n",
       "      <td>4.0</td>\n",
       "      <td>35.0</td>\n",
       "      <td>21.0</td>\n",
       "      <td>6.0</td>\n",
       "      <td>3.0</td>\n",
       "      <td>6.0</td>\n",
       "      <td>26.0</td>\n",
       "      <td>29.0</td>\n",
       "      <td>35.0</td>\n",
       "      <td>16</td>\n",
       "    </tr>\n",
       "  </tbody>\n",
       "</table>\n",
       "</div>"
      ],
      "text/plain": [
       "   year       club  played  home_w  home_d  home_l  home_f  home_a  away_w  \\\n",
       "0  1951  Hibernian    30.0      13       1     1.0    44.0     9.0     9.0   \n",
       "1  1951    Rangers    30.0      10       3     2.0    36.0    13.0     7.0   \n",
       "2  1951     Dundee    30.0      11       3     1.0    32.0    12.0     4.0   \n",
       "3  1951     Hearts    30.0      10       3     2.0    46.0    17.0     6.0   \n",
       "4  1951   Aberdeen    30.0       9       2     4.0    35.0    21.0     6.0   \n",
       "\n",
       "   away_d  away_l  away_f  away_a   pts  n_teams  \n",
       "0     3.0     3.0    34.0    17.0  48.0       16  \n",
       "1     1.0     7.0    28.0    24.0  38.0       16  \n",
       "2     5.0     6.0    15.0    18.0  38.0       16  \n",
       "3     2.0     7.0    26.0    28.0  37.0       16  \n",
       "4     3.0     6.0    26.0    29.0  35.0       16  "
      ]
     },
     "execution_count": 49,
     "metadata": {},
     "output_type": "execute_result"
    }
   ],
   "source": [
    "spl_series = pd.concat(scottish_league)\n",
    "spl_series = spl_series[[c for c in spl_series.columns if not c.startswith('Unnamed')]]\n",
    "spl_series.head()"
   ]
  },
  {
   "cell_type": "code",
   "execution_count": 50,
   "metadata": {},
   "outputs": [
    {
     "data": {
      "text/plain": [
       "array([1951, 1952, 1953, 1954, 1955, 1956, 1957, 1958, 1959, 1960, 1961,\n",
       "       1962, 1963, 1964, 1965, 1966, 1967, 1968, 1969, 1970, 1971, 1972,\n",
       "       1973, 1974, 1975, 1976, 1977, 1978, 1979, 1980, 1981, 1982, 1983,\n",
       "       1984, 1985, 1986, 1987, 1988, 1989, 1990, 1991, 1992, 1993, 1994,\n",
       "       1995])"
      ]
     },
     "execution_count": 50,
     "metadata": {},
     "output_type": "execute_result"
    }
   ],
   "source": [
    "epl_series = pd.concat(english_league)\n",
    "epl_series = epl_series[[c for c in epl_series.columns if not c.startswith('Unnamed')]]\n",
    "epl_series['year'] = 1900 + epl_series.year\n",
    "epl_series.year.unique()"
   ]
  },
  {
   "cell_type": "code",
   "execution_count": 51,
   "metadata": {},
   "outputs": [],
   "source": [
    "spl_series['goals'] = spl_series.home_f + spl_series.away_f\n",
    "epl_series['goals'] = epl_series.home_f + epl_series.away_f\n",
    "spl_series['goals_permatch'] = spl_series.goals / spl_series.played\n",
    "epl_series['goals_permatch'] = epl_series.goals / epl_series.played"
   ]
  },
  {
   "cell_type": "code",
   "execution_count": 52,
   "metadata": {},
   "outputs": [],
   "source": [
    "scotlandgoals = spl_series[['year','goals_permatch']].groupby('year').mean()\n",
    "englandgoals = epl_series[['year','goals_permatch']].groupby('year').mean()"
   ]
  },
  {
   "cell_type": "code",
   "execution_count": 58,
   "metadata": {},
   "outputs": [
    {
     "data": {
      "text/html": [
       "<div>\n",
       "<style scoped>\n",
       "    .dataframe tbody tr th:only-of-type {\n",
       "        vertical-align: middle;\n",
       "    }\n",
       "\n",
       "    .dataframe tbody tr th {\n",
       "        vertical-align: top;\n",
       "    }\n",
       "\n",
       "    .dataframe thead th {\n",
       "        text-align: right;\n",
       "    }\n",
       "</style>\n",
       "<table border=\"1\" class=\"dataframe\">\n",
       "  <thead>\n",
       "    <tr style=\"text-align: right;\">\n",
       "      <th></th>\n",
       "      <th>year</th>\n",
       "      <th>scotland_goals_per_match</th>\n",
       "      <th>england_goals_per_match</th>\n",
       "    </tr>\n",
       "  </thead>\n",
       "  <tbody>\n",
       "    <tr>\n",
       "      <th>0</th>\n",
       "      <td>1951</td>\n",
       "      <td>1.731250</td>\n",
       "      <td>1.529221</td>\n",
       "    </tr>\n",
       "    <tr>\n",
       "      <th>1</th>\n",
       "      <td>1952</td>\n",
       "      <td>1.850000</td>\n",
       "      <td>1.612554</td>\n",
       "    </tr>\n",
       "    <tr>\n",
       "      <th>2</th>\n",
       "      <td>1953</td>\n",
       "      <td>1.985417</td>\n",
       "      <td>1.632035</td>\n",
       "    </tr>\n",
       "    <tr>\n",
       "      <th>3</th>\n",
       "      <td>1954</td>\n",
       "      <td>1.885417</td>\n",
       "      <td>1.661255</td>\n",
       "    </tr>\n",
       "    <tr>\n",
       "      <th>4</th>\n",
       "      <td>1955</td>\n",
       "      <td>1.795833</td>\n",
       "      <td>1.701299</td>\n",
       "    </tr>\n",
       "  </tbody>\n",
       "</table>\n",
       "</div>"
      ],
      "text/plain": [
       "   year  scotland_goals_per_match  england_goals_per_match\n",
       "0  1951                  1.731250                 1.529221\n",
       "1  1952                  1.850000                 1.612554\n",
       "2  1953                  1.985417                 1.632035\n",
       "3  1954                  1.885417                 1.661255\n",
       "4  1955                  1.795833                 1.701299"
      ]
     },
     "execution_count": 58,
     "metadata": {},
     "output_type": "execute_result"
    }
   ],
   "source": [
    "ts = pd.concat([scotlandgoals, englandgoals], axis=1)\n",
    "ts.columns = ['scotland_goals_per_match', 'england_goals_per_match']\n",
    "ts.reset_index(inplace=True)\n",
    "ts.head()"
   ]
  },
  {
   "cell_type": "code",
   "execution_count": 57,
   "metadata": {},
   "outputs": [
    {
     "data": {
      "image/png": "[encoded data removed]",
      "text/plain": [
       "<Figure size 640x480 with 1 Axes>"
      ]
     },
     "metadata": {},
     "output_type": "display_data"
    },
    {
     "data": {
      "text/plain": [
       "<ggplot: (8784425193613)>"
      ]
     },
     "execution_count": 57,
     "metadata": {},
     "output_type": "execute_result"
    }
   ],
   "source": [
    "ggplot(ts, aes(x='year')) +\\\n",
    "    geom_point(aes(y='scotland_goals_per_match'), colour='Blue') +\\\n",
    "    geom_point(aes(y='england_goals_per_match'), colour='Red') +\\\n",
    "    labs(y = 'average goals per team', \n",
    "         title = 'Goal trends in EPL and SPL (normalised by number of matches)')"
   ]
  },
  {
   "cell_type": "code",
   "execution_count": null,
   "metadata": {},
   "outputs": [],
   "source": []
  }
 ],
 "metadata": {
  "kernelspec": {
   "display_name": "Python 3",
   "language": "python",
   "name": "python3"
  },
  "language_info": {
   "codemirror_mode": {
    "name": "ipython",
    "version": 3
   },
   "file_extension": ".py",
   "mimetype": "text/x-python",
   "name": "python",
   "nbconvert_exporter": "python",
   "pygments_lexer": "ipython3",
   "version": "3.7.0"
  }
 },
 "nbformat": 4,
 "nbformat_minor": 2
}
