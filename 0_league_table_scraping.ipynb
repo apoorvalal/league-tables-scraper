{
 "cells": [
  {
   "cell_type": "code",
   "execution_count": 1,
   "metadata": {},
   "outputs": [],
   "source": [
    "# pyscience imports\n",
    "import os\n",
    "import sys\n",
    "import glob\n",
    "import numpy as np\n",
    "import pandas as pd\n",
    "import statsmodels.api as sm\n",
    "import statsmodels.formula.api as smf\n",
    "\n",
    "import matplotlib.pyplot as plt\n",
    "import seaborn as sns\n",
    "plt.style.use(\"seaborn-darkgrid\")\n",
    "# plt.style.use(\"dark_background\")\n",
    "sns.set(style=\"ticks\", context=\"talk\")\n",
    "# %matplotlib inline\n",
    "# run for jupyter notebook\n",
    "from IPython.core.interactiveshell import InteractiveShell\n",
    "InteractiveShell.ast_node_interactivity = 'all'\n",
    "#%%"
   ]
  },
  {
   "cell_type": "code",
   "execution_count": 2,
   "metadata": {},
   "outputs": [],
   "source": [
    "import requests\n",
    "import lxml.html as lh\n",
    "import bs4 as bs\n",
    "import urllib.request\n",
    "import io\n",
    "header = {\n",
    "  \"User-Agent\": \"Mozilla/5.0 (X11; Linux x86_64) AppleWebKit/537.36 (KHTML, like Gecko) Chrome/50.0.2661.75 Safari/537.36\",\n",
    "  \"X-Requested-With\": \"XMLHttpRequest\"\n",
    "}"
   ]
  },
  {
   "cell_type": "markdown",
   "metadata": {},
   "source": [
    "# General Setup "
   ]
  },
  {
   "cell_type": "markdown",
   "metadata": {},
   "source": [
    "Get relevant url from [league321](http://league321.com)"
   ]
  },
  {
   "cell_type": "markdown",
   "metadata": {},
   "source": [
    "# Scotland "
   ]
  },
  {
   "cell_type": "markdown",
   "metadata": {},
   "source": [
    "## [scotland league history](http://www.league321.com/scotland-football.html)"
   ]
  },
  {
   "cell_type": "code",
   "execution_count": 4,
   "metadata": {},
   "outputs": [],
   "source": [
    "tablecols = ['club','played',\n",
    "                'home_w', 'home_d', 'home_l', 'home_f', 'home_a', \n",
    "                'away_w', 'away_d', 'away_l', 'away_f', 'away_a', \n",
    "                'pts']"
   ]
  },
  {
   "cell_type": "code",
   "execution_count": 5,
   "metadata": {},
   "outputs": [],
   "source": [
    "def spfl_scraper(year, colnames = tablecols, baseurl = 'https://spfl.co.uk/league/premiership/archive/'):\n",
    "    suffix = str(1999 - year)\n",
    "    url = baseurl + suffix\n",
    "    r = requests.get(url, headers=header)\n",
    "    dfs = pd.read_html(r.text, header = 1)\n",
    "    df = dfs[0] # only keep first table\n",
    "    df.drop(df.index[[0]], inplace = True) # drop first row\n",
    "    # drop extra columns\n",
    "    if len(df.columns) > 13:\n",
    "        df = df.iloc[:,:13]\n",
    "    # drop rows with all missing values\n",
    "    df.dropna(how='all', inplace = True) \n",
    "    # try naming columns\n",
    "    try:\n",
    "        df.columns = colnames\n",
    "    except:\n",
    "        print('Unexpected Table Structure')\n",
    "    df['year'] = year\n",
    "    return df"
   ]
  },
  {
   "cell_type": "code",
   "execution_count": 6,
   "metadata": {},
   "outputs": [],
   "source": [
    "seasons = list(range(1950, 1994, 1))\n",
    "result = map(spfl_scraper, seasons) \n",
    "tables = list(result)"
   ]
  },
  {
   "cell_type": "code",
   "execution_count": 9,
   "metadata": {},
   "outputs": [
    {
     "data": {
      "text/plain": [
       "'/mnt/d/Temp/football_table_scraper'"
      ]
     },
     "execution_count": 9,
     "metadata": {},
     "output_type": "execute_result"
    },
    {
     "name": "stdout",
     "output_type": "stream",
     "text": [
      "/mnt/d/Temp/football_table_scraper/scottish_league_tables\n"
     ]
    }
   ],
   "source": [
    "%pwd\n",
    "%mkdir scottish_league_tables -p\n",
    "%cd scottish_league_tables"
   ]
  },
  {
   "cell_type": "code",
   "execution_count": 10,
   "metadata": {},
   "outputs": [],
   "source": [
    "for i in range(0,len(seasons)):\n",
    "    fn = 'scottish_league_' + str(seasons[i]) + '.csv'\n",
    "    tables[i].to_csv(fn)"
   ]
  },
  {
   "cell_type": "code",
   "execution_count": 11,
   "metadata": {},
   "outputs": [
    {
     "name": "stdout",
     "output_type": "stream",
     "text": [
      "/mnt/d/Temp/football_table_scraper\n"
     ]
    }
   ],
   "source": [
    "%cd .."
   ]
  },
  {
   "cell_type": "markdown",
   "metadata": {},
   "source": [
    "# England "
   ]
  },
  {
   "cell_type": "markdown",
   "metadata": {},
   "source": [
    "## [England league history](http://www.rsssf.com/engpaul/fla/league.html)"
   ]
  },
  {
   "cell_type": "code",
   "execution_count": 3,
   "metadata": {},
   "outputs": [],
   "source": [
    "cols = ['Pos', 'Team', 'Played',\n",
    "        'home_w', 'home_d', 'home_l', 'home_f', 'home_a', \n",
    "        'away_w', 'away_d', 'away_l', 'away_f', 'away_a', \n",
    "        'Pts'] \n",
    "\n",
    "rsssf_base = 'http://www.rsssf.com/engpaul/fla/'"
   ]
  },
  {
   "cell_type": "code",
   "execution_count": 4,
   "metadata": {},
   "outputs": [
    {
     "data": {
      "text/plain": [
       "'/mnt/d/Temp/football_table_scraper'"
      ]
     },
     "execution_count": 4,
     "metadata": {},
     "output_type": "execute_result"
    },
    {
     "name": "stdout",
     "output_type": "stream",
     "text": [
      "/mnt/d/Temp/football_table_scraper/english_league_tables\n"
     ]
    }
   ],
   "source": [
    "%pwd\n",
    "%mkdir english_league_tables -p\n",
    "%cd english_league_tables"
   ]
  },
  {
   "cell_type": "code",
   "execution_count": 5,
   "metadata": {},
   "outputs": [],
   "source": [
    "def epl_scraper(y1, baseurl = rsssf_base, colnames = cols):\n",
    "    \"\"\"\n",
    "    takes year name and scrapes rsssf page, \n",
    "    writes to a plaintext file and csv file (latter may be buggy)\n",
    "    \"\"\"\n",
    "    y2 = y1 % 1900 + 1\n",
    "    url = baseurl + '{0}-{1}'.format(y1, y2) + '.html'\n",
    "    r = requests.get(url, headers=header)\n",
    "    page_content = bs.BeautifulSoup(r.content, \"html.parser\")\n",
    "    tables = page_content.find_all(\"pre\")\n",
    "    tables = str(tables[0])\n",
    "    t1 = tables.split('<hr/>')[1].split('\\n')\n",
    "    table = t1[3:-1]\n",
    "    # replace pesky characters that break things\n",
    "    table = [x.replace('.', '').replace('&amp;', ' ') for x in table] \n",
    "#     return table\n",
    "    # filename\n",
    "    fn = 'english_league_' + '19' + str(y2) \n",
    "    with open(fn + '.txt', 'w') as f:\n",
    "        f.write('\\n'.join(table))\n",
    "    try:\n",
    "        leaguetable = pd.read_fwf(fn + '.txt', header = None, names = colnames)\n",
    "        leaguetable['year'] = y2\n",
    "        leaguetable.to_csv(fn + '.csv')\n",
    "    except:\n",
    "        print(y1 + ' has oddly formatted table. rewrite csv manually')\n",
    "        return table"
   ]
  },
  {
   "cell_type": "code",
   "execution_count": 6,
   "metadata": {},
   "outputs": [],
   "source": [
    "epl_scraper(1982)"
   ]
  },
  {
   "cell_type": "code",
   "execution_count": 7,
   "metadata": {},
   "outputs": [
    {
     "name": "stdout",
     "output_type": "stream",
     "text": [
      "1962 scraping exception\n",
      "1970 scraping exception\n",
      "1991 scraping exception\n"
     ]
    }
   ],
   "source": [
    "seasons = list(range(1950, 1994, 1))\n",
    "for s in seasons:\n",
    "    try:\n",
    "        epl_scraper(s)\n",
    "    except:\n",
    "        print(str(s+1) + ' scraping exception')"
   ]
  },
  {
   "cell_type": "code",
   "execution_count": 28,
   "metadata": {},
   "outputs": [
    {
     "data": {
      "text/plain": [
       "1584"
      ]
     },
     "execution_count": 28,
     "metadata": {},
     "output_type": "execute_result"
    }
   ],
   "source": [
    "# debug 1991-92 season\n",
    "y2 = 92\n",
    "url = 'http://www.rsssf.com/engpaul/fla/1991-92.html'\n",
    "r = requests.get(url, headers=header)\n",
    "page_content = bs.BeautifulSoup(r.content, \"html.parser\")\n",
    "tables = page_content.find_all(\"pre\")\n",
    "tables = str(tables[0])\n",
    "# tables\n",
    "t1 = tables.split('<hr/>')\n",
    "t1 = t1[0].split('\\n')\n",
    "table = t1[3:-1]\n",
    "table = [x.replace('.', '').replace('&amp;', ' ').replace('\\r','') for x in table] \n",
    "fn = 'english_league_' + '19' + str(y2) \n",
    "with open(fn + '.txt', 'w') as f:\n",
    "    f.write('\\n'.join(table))\n",
    "leaguetable = pd.read_fwf(fn + '.txt', header = None, names = cols)\n",
    "leaguetable['year'] = y2\n",
    "leaguetable.to_csv(fn + '.csv')"
   ]
  },
  {
   "cell_type": "code",
   "execution_count": 42,
   "metadata": {},
   "outputs": [
    {
     "data": {
      "text/plain": [
       "1583"
      ]
     },
     "execution_count": 42,
     "metadata": {},
     "output_type": "execute_result"
    }
   ],
   "source": [
    "# debugging 1962-63 season\n",
    "y2 = 63\n",
    "url = 'http://www.rsssf.com/engpaul/fla/1962-63.html'\n",
    "r = requests.get(url, headers=header)\n",
    "page_content = bs.BeautifulSoup(r.content, \"html.parser\")\n",
    "tables = page_content.find_all(\"pre\")\n",
    "tables = str(tables[0])\n",
    "t1 = tables.split('<hr/>')\n",
    "t1 = t1[0].split('\\n')\n",
    "table = t1[5:-1]\n",
    "table = [x.replace('.', '').replace('&amp;', ' ').replace('\\r','') for x in table] \n",
    "\n",
    "fn = 'english_league_' + '19' + str(y2) \n",
    "with open(fn + '.txt', 'w') as f:\n",
    "    f.write('\\n'.join(table))\n",
    "leaguetable = pd.read_fwf(fn + '.txt', header = None, names = cols)\n",
    "leaguetable['year'] = y2\n",
    "leaguetable.to_csv(fn + '.csv')"
   ]
  },
  {
   "cell_type": "code",
   "execution_count": 42,
   "metadata": {},
   "outputs": [],
   "source": [
    "# debugging 1970-71 season\n",
    "y2 = 71\n",
    "url = 'http://www.rsssf.com/engpaul/fla/1970-71.html'\n",
    "r = requests.get(url, headers=header)\n",
    "page_content = bs.BeautifulSoup(r.content, \"html.parser\")\n",
    "tables = page_content.find_all(\"pre\")\n",
    "tables = str(tables[0])\n",
    "t1 = tables.split('<hr/>')\n",
    "t1 = t1[0].split('\\n')\n",
    "table = t1[3:-3]\n",
    "table = [x.replace('.', '').replace('&amp;', ' ').replace('\\r','') for x in table] \n",
    "fn = 'english_league_' + '19' + str(y2) \n",
    "with open(fn + '.txt', 'w') as f:\n",
    "    f.write('\\n'.join(table))\n",
    "leaguetable = pd.read_fwf(fn + '.txt', header = None, names = cols)\n",
    "leaguetable['year'] = y2\n",
    "leaguetable.to_csv(fn + '.csv')"
   ]
  },
  {
   "cell_type": "code",
   "execution_count": null,
   "metadata": {},
   "outputs": [],
   "source": []
  }
 ],
 "metadata": {
  "kernelspec": {
   "display_name": "Python 3",
   "language": "python",
   "name": "python3"
  },
  "language_info": {
   "codemirror_mode": {
    "name": "ipython",
    "version": 3
   },
   "file_extension": ".py",
   "mimetype": "text/x-python",
   "name": "python",
   "nbconvert_exporter": "python",
   "pygments_lexer": "ipython3",
   "version": "3.7.1"
  }
 },
 "nbformat": 4,
 "nbformat_minor": 2
}
